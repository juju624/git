import openai

# Substitua 'sua-api-key' pela sua chave de API da OpenAI
openai.api_key = 'sua-api-key'

def gerar_imagem(prompt):
    resposta = openai.Image.create(
        prompt=prompt,
        n=1,
        size="1024x1024"
    )
    imagem_url = resposta['data'][0]['url']
    return imagem_url

if __name__ == "__main__":
    prompt = "Foto Realista, 25 anos, 'Maria', olhos azuis, cabelo longo e liso, corpo atlético, Ela é natural, Ela é natural e ultra realista, Ela é Fotogênico e modelo, Ela está fazendo um selfie, foto para poste de instagram."

    imagem_url = gerar_imagem(prompt)
    print("Imagem gerada:", imagem_url)
